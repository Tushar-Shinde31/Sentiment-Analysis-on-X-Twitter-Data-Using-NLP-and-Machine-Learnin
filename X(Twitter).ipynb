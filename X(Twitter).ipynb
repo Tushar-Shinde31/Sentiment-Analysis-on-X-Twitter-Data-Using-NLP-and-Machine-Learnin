{
  "nbformat": 4,
  "nbformat_minor": 0,
  "metadata": {
    "colab": {
      "provenance": [],
      "gpuType": "T4",
      "mount_file_id": "1HFdjFoOtRxWsziva_Knk-nTyoKFpousN",
      "authorship_tag": "ABX9TyM6Jh6wtXPlc1Zg/qgYxTRu",
      "include_colab_link": true
    },
    "kernelspec": {
      "name": "python3",
      "display_name": "Python 3"
    },
    "language_info": {
      "name": "python"
    },
    "accelerator": "GPU"
  },
  "cells": [
    {
      "cell_type": "markdown",
      "metadata": {
        "id": "view-in-github",
        "colab_type": "text"
      },
      "source": [
        "<a href=\"https://colab.research.google.com/github/Tushar-Shinde31/Sentiment-Analysis-on-X-Twitter-Data-Using-NLP-and-Machine-Learnin/blob/main/X(Twitter).ipynb\" target=\"_parent\"><img src=\"https://colab.research.google.com/assets/colab-badge.svg\" alt=\"Open In Colab\"/></a>"
      ]
    },
    {
      "cell_type": "code",
      "source": [
        "import pandas as pd\n",
        "import nltk\n",
        "import string\n",
        "from nltk.tokenize import TweetTokenizer\n",
        "from nltk.corpus import stopwords\n",
        "from nltk.sentiment.vader import SentimentIntensityAnalyzer\n",
        "from sklearn import svm\n",
        "from sklearn.metrics import classification_report\n",
        "from sklearn.feature_extraction.text import TfidfVectorizer\n",
        "\n",
        "# Download necessary NLTK resources\n",
        "nltk.download('stopwords')\n",
        "nltk.download('vader_lexicon')\n"
      ],
      "metadata": {
        "colab": {
          "base_uri": "https://localhost:8080/"
        },
        "id": "-eLJka4V8aT6",
        "outputId": "a23eb5fb-75e6-4c4d-b9b7-36b9d1d1bfe2"
      },
      "execution_count": null,
      "outputs": [
        {
          "output_type": "stream",
          "name": "stderr",
          "text": [
            "[nltk_data] Downloading package stopwords to /root/nltk_data...\n",
            "[nltk_data]   Package stopwords is already up-to-date!\n",
            "[nltk_data] Downloading package vader_lexicon to /root/nltk_data...\n",
            "[nltk_data]   Package vader_lexicon is already up-to-date!\n"
          ]
        },
        {
          "output_type": "execute_result",
          "data": {
            "text/plain": [
              "True"
            ]
          },
          "metadata": {},
          "execution_count": 27
        }
      ]
    },
    {
      "cell_type": "code",
      "source": [
        "# Load the dataset\n",
        "file_path = \"/content/drive/MyDrive/Data_Science_Internship_Mat/X data.csv\"  # Update with your dataset path\n",
        "tweet_file = pd.read_csv(file_path)\n",
        "\n",
        "# Check for necessary columns\n",
        "if 'clean_text' not in tweet_file.columns or 'category' not in tweet_file.columns:\n",
        "    raise ValueError(\"Dataset must contain 'clean_text' and 'category' columns.\")\n",
        "\n",
        "# Display first few rows for verification\n",
        "print(tweet_file.head())\n"
      ],
      "metadata": {
        "colab": {
          "base_uri": "https://localhost:8080/"
        },
        "id": "ER0oiZ8b8dkp",
        "outputId": "9ed7a121-6be3-466c-b22b-f6448bcb2efe"
      },
      "execution_count": null,
      "outputs": [
        {
          "output_type": "stream",
          "name": "stdout",
          "text": [
            "                                          clean_text  category\n",
            "0  when modi promised “minimum government maximum...      -1.0\n",
            "1  talk all the nonsense and continue all the dra...       0.0\n",
            "2  what did just say vote for modi  welcome bjp t...       1.0\n",
            "3  asking his supporters prefix chowkidar their n...       1.0\n",
            "4  answer who among these the most powerful world...       1.0\n"
          ]
        }
      ]
    },
    {
      "cell_type": "code",
      "source": [
        "# Initialize tokenizer and stopwords\n",
        "tknzr = TweetTokenizer()\n",
        "stop_words = set(stopwords.words(\"english\"))\n",
        "\n",
        "# Define preprocessing function\n",
        "def preprocess_text(text):\n",
        "    tokens = tknzr.tokenize(str(text).lower())  # Tokenize and convert to lowercase\n",
        "    tokens = [word for word in tokens if word not in string.punctuation and\n",
        "              word not in stop_words and '@' not in word]  # Remove stopwords, punctuation, mentions\n",
        "    return \" \".join(tokens)  # Rejoin tokens into a single string\n",
        "\n",
        "# Apply the cleaning function\n",
        "tweet_file['clean_data'] = tweet_file['clean_text'].apply(preprocess_text)\n",
        "\n",
        "# Verify the cleaned data\n",
        "print(tweet_file[['clean_text', 'clean_data']].head())\n"
      ],
      "metadata": {
        "colab": {
          "base_uri": "https://localhost:8080/"
        },
        "id": "An53XaX58j0t",
        "outputId": "b4727ca4-62d0-4e89-93af-4836774b443c"
      },
      "execution_count": null,
      "outputs": [
        {
          "output_type": "stream",
          "name": "stdout",
          "text": [
            "                                          clean_text  \\\n",
            "0  when modi promised “minimum government maximum...   \n",
            "1  talk all the nonsense and continue all the dra...   \n",
            "2  what did just say vote for modi  welcome bjp t...   \n",
            "3  asking his supporters prefix chowkidar their n...   \n",
            "4  answer who among these the most powerful world...   \n",
            "\n",
            "                                          clean_data  \n",
            "0  modi promised “ minimum government maximum gov...  \n",
            "1             talk nonsense continue drama vote modi  \n",
            "2  say vote modi welcome bjp told rahul main camp...  \n",
            "3  asking supporters prefix chowkidar names modi ...  \n",
            "4  answer among powerful world leader today trump...  \n"
          ]
        }
      ]
    },
    {
      "cell_type": "code",
      "source": [
        "# Split the dataset into training (80%) and testing (20%) sets\n",
        "train_data = tweet_file.sample(frac=0.8, random_state=42)\n",
        "test_data = tweet_file.drop(train_data.index)\n",
        "\n",
        "# Verify the split\n",
        "print(f\"Training samples: {len(train_data)}, Testing samples: {len(test_data)}\")\n"
      ],
      "metadata": {
        "colab": {
          "base_uri": "https://localhost:8080/"
        },
        "id": "0zWPE9518tyS",
        "outputId": "31a9e281-8990-4e52-d02d-529eebcd186c"
      },
      "execution_count": null,
      "outputs": [
        {
          "output_type": "stream",
          "name": "stdout",
          "text": [
            "Training samples: 130384, Testing samples: 32596\n"
          ]
        }
      ]
    },
    {
      "cell_type": "code",
      "source": [
        "# Initialize VADER Sentiment Intensity Analyzer\n",
        "sid = SentimentIntensityAnalyzer()\n",
        "\n",
        "# Define a function for sentiment labeling\n",
        "def get_sentiment(text):\n",
        "    score = sid.polarity_scores(text)['compound']\n",
        "    if score >= 0.05:\n",
        "        return \"pos\"\n",
        "    elif score <= -0.05:\n",
        "        return \"neg\"\n",
        "    else:\n",
        "        return \"neu\"\n",
        "\n",
        "# Apply VADER sentiment analysis\n",
        "train_data['sentiment'] = train_data['clean_data'].apply(get_sentiment)\n",
        "test_data['sentiment'] = test_data['clean_data'].apply(get_sentiment)\n",
        "\n",
        "# Save processed data for future reference\n",
        "train_data.to_csv(\"train_data.csv\", index=False)\n",
        "test_data.to_csv(\"test_data.csv\", index=False)\n"
      ],
      "metadata": {
        "id": "gK5Epvvo8vxX"
      },
      "execution_count": null,
      "outputs": []
    },
    {
      "cell_type": "code",
      "source": [
        "# Initialize TF-IDF Vectorizer\n",
        "vectorizer = TfidfVectorizer(min_df=5, max_df=0.8, sublinear_tf=True, use_idf=True)\n",
        "\n",
        "# Fit the vectorizer on training data and transform both training and testing data\n",
        "train_vectors = vectorizer.fit_transform(train_data['clean_data'].values.astype('U'))\n",
        "test_vectors = vectorizer.transform(test_data['clean_data'].values.astype('U'))\n"
      ],
      "metadata": {
        "id": "8lvAZO8k859s"
      },
      "execution_count": null,
      "outputs": []
    },
    {
      "cell_type": "code",
      "source": [
        "# Initialize SVM with a linear kernel\n",
        "classifier = svm.SVC(kernel='linear')\n",
        "\n",
        "# Train the classifier\n",
        "classifier.fit(train_vectors, train_data['sentiment'])\n",
        "print(\"Model training complete.\")\n"
      ],
      "metadata": {
        "colab": {
          "base_uri": "https://localhost:8080/"
        },
        "id": "ev-znxVm89Rz",
        "outputId": "a3bcaa9b-abaf-41f9-d80b-3e383525f217"
      },
      "execution_count": null,
      "outputs": [
        {
          "output_type": "stream",
          "name": "stdout",
          "text": [
            "Model training complete.\n"
          ]
        }
      ]
    },
    {
      "cell_type": "code",
      "source": [
        "# Predict on test data\n",
        "predictions = classifier.predict(test_vectors)\n",
        "\n",
        "# Evaluate the model\n",
        "print(\"Classification Report:\")\n",
        "print(classification_report(test_data['sentiment'], predictions))\n"
      ],
      "metadata": {
        "colab": {
          "base_uri": "https://localhost:8080/"
        },
        "id": "FCkLc_jaIQqq",
        "outputId": "067be0d3-13bc-4544-b6b0-fc2d73e4caf4"
      },
      "execution_count": null,
      "outputs": [
        {
          "output_type": "stream",
          "name": "stdout",
          "text": [
            "Classification Report:\n",
            "              precision    recall  f1-score   support\n",
            "\n",
            "         neg       0.89      0.85      0.87      9885\n",
            "         neu       0.90      0.92      0.91      7150\n",
            "         pos       0.91      0.93      0.92     15561\n",
            "\n",
            "    accuracy                           0.90     32596\n",
            "   macro avg       0.90      0.90      0.90     32596\n",
            "weighted avg       0.90      0.90      0.90     32596\n",
            "\n"
          ]
        }
      ]
    },
    {
      "cell_type": "code",
      "source": [
        "import matplotlib.pyplot as plt\n",
        "\n",
        "# Plot sentiment distribution in the dataset\n",
        "sentiment_counts = tweet_file['category'].value_counts()\n",
        "sentiment_counts.plot(kind='bar', color=['green', 'red', 'blue'])\n",
        "plt.title('Sentiment Distribution')\n",
        "plt.xlabel('Sentiment')\n",
        "plt.ylabel('Number of Tweets')\n",
        "plt.show()\n"
      ],
      "metadata": {
        "colab": {
          "base_uri": "https://localhost:8080/",
          "height": 485
        },
        "id": "1A76mYQ5JM2K",
        "outputId": "42812240-f49a-4c89-8117-741f5f1f71c4"
      },
      "execution_count": null,
      "outputs": [
        {
          "output_type": "display_data",
          "data": {
            "text/plain": [
              "<Figure size 640x480 with 1 Axes>"
            ],
            "image/png": "[encoded data removed]"
          },
          "metadata": {}
        }
      ]
    },
    {
      "cell_type": "code",
      "source": [
        "import joblib\n",
        "\n",
        "# Save the trained SVM model\n",
        "joblib.dump(classifier, \"svm_sentiment_model.pkl\")\n",
        "\n",
        "# Save the TF-IDF vectorizer\n",
        "joblib.dump(vectorizer, \"tfidf_vectorizer.pkl\")\n",
        "\n",
        "print(\"Model and vectorizer saved successfully!\")\n"
      ],
      "metadata": {
        "colab": {
          "base_uri": "https://localhost:8080/"
        },
        "id": "5z-vW51MKCkU",
        "outputId": "5add94fd-423f-47d2-bd06-ee77f6ada241"
      },
      "execution_count": null,
      "outputs": [
        {
          "output_type": "stream",
          "name": "stdout",
          "text": [
            "Model and vectorizer saved successfully!\n"
          ]
        }
      ]
    },
    {
      "cell_type": "code",
      "source": [
        "# Load the trained SVM model\n",
        "loaded_model = joblib.load(\"svm_sentiment_model.pkl\")\n",
        "\n",
        "# Load the TF-IDF vectorizer\n",
        "loaded_vectorizer = joblib.load(\"tfidf_vectorizer.pkl\")\n",
        "\n",
        "print(\"Model and vectorizer loaded successfully!\")\n"
      ],
      "metadata": {
        "colab": {
          "base_uri": "https://localhost:8080/"
        },
        "id": "qRYH95v_KFY3",
        "outputId": "b6ea8066-a739-40d1-884b-757931042f56"
      },
      "execution_count": null,
      "outputs": [
        {
          "output_type": "stream",
          "name": "stdout",
          "text": [
            "Model and vectorizer loaded successfully!\n"
          ]
        }
      ]
    },
    {
      "cell_type": "code",
      "source": [
        "# Example input for prediction\n",
        "new_text = [\"I love this product!\", \"This is the worst experience ever.\"]\n",
        "\n",
        "# Preprocess the text\n",
        "new_text_cleaned = [preprocess_text(text) for text in new_text]\n",
        "\n",
        "# Transform the text using the loaded vectorizer\n",
        "new_text_vectors = loaded_vectorizer.transform(new_text_cleaned)\n",
        "\n",
        "# Predict sentiment\n",
        "predictions = loaded_model.predict(new_text_vectors)\n",
        "\n",
        "print(\"Predictions:\", predictions)\n"
      ],
      "metadata": {
        "colab": {
          "base_uri": "https://localhost:8080/"
        },
        "id": "yVhBiaIvKJDh",
        "outputId": "e3699728-da54-44c4-aa3f-cc4afaae64b5"
      },
      "execution_count": null,
      "outputs": [
        {
          "output_type": "stream",
          "name": "stdout",
          "text": [
            "Predictions: ['pos' 'neg']\n"
          ]
        }
      ]
    }
  ]
}